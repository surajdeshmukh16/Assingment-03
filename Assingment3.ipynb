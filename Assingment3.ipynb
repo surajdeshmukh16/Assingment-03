{
  "nbformat": 4,
  "nbformat_minor": 0,
  "metadata": {
    "colab": {
      "name": "Assingment3.ipynb",
      "provenance": [],
      "collapsed_sections": []
    },
    "kernelspec": {
      "name": "python3",
      "display_name": "Python 3"
    },
    "language_info": {
      "name": "python"
    }
  },
  "cells": [
    {
      "cell_type": "code",
      "execution_count": 13,
      "metadata": {
        "colab": {
          "base_uri": "https://localhost:8080/"
        },
        "id": "7r4cOPXXxxi8",
        "outputId": "033ca92c-a6d7-496a-bd5c-f38c1b611963"
      },
      "outputs": [
        {
          "output_type": "stream",
          "name": "stdout",
          "text": [
            "Enter the list items : 32 43 54 65 67 7 90\n",
            "The Sum of all numbers in a list 358\n"
          ]
        }
      ],
      "source": [
        "# Write a Python function to sum all the numbers in a list\n",
        "\n",
        "def sum_list(list1):\n",
        "  sum=0\n",
        "  for i in range(len(list1)):\n",
        "    sum=list1[i]+sum\n",
        "  return(sum)\n",
        "list1=[int(item) for item in input(\"Enter the list items : \").split()]\n",
        "x=sum_list(list1)    \n",
        "print(\"The Sum of all numbers in a list\",x)"
      ]
    },
    {
      "cell_type": "code",
      "source": [
        "#Write a Python program to reverse a string.\n",
        "def reverse_string(str):  \n",
        "    str1 = \"\"   \n",
        "    for i in str2:  \n",
        "        str1 = i + str1  \n",
        "    return str1     \n",
        "     \n",
        "str2 =input(\"Enter The String you want to reverse:\")  \n",
        "print(\"The original String is\",str2)\n",
        "print(\"The Reverse Sring is \",reverse_string(str2))       "
      ],
      "metadata": {
        "colab": {
          "base_uri": "https://localhost:8080/"
        },
        "id": "BDSuA1jy9ujn",
        "outputId": "428a2832-db62-4050-d525-7412231de68f"
      },
      "execution_count": 22,
      "outputs": [
        {
          "output_type": "stream",
          "name": "stdout",
          "text": [
            "Enter The String you want to reverse:2123hdgd\n",
            "The original String is 2123hdgd\n",
            "The Reverse Sring is  dgdh3212\n"
          ]
        }
      ]
    },
    {
      "cell_type": "code",
      "source": [
        "#Write a Python function that accepts a string and calculate the number of upper case letters and lower case letters.\n",
        "def nuber_of_uppercase_lowecase(string1):\n",
        "  uppercase_count=0\n",
        "  lowercase_count=0\n",
        "  for i in string1:\n",
        "    if(ord(i)>=97 and ord(i)<=122):\n",
        "      lowercase_count=lowercase_count+1\n",
        "     # print(\"The  number of lowercase Letters in the String:\",lowercase_count)\n",
        "    elif(ord(i)>=65 and ord(i)<=90):\n",
        "      uppercase_count=uppercase_count+1\n",
        "      #print(\"The number of uppercase Letters in the String:\",uppercase_count)\n",
        "  print(\"The  number of lowercase Letters in the String:\",lowercase_count)\n",
        "  print(\"The number of uppercase Letters in the String:\",uppercase_count) \n",
        "string1=input(\"Enter the String:\")\n",
        "nuber_of_uppercase_lowecase(string1)\n",
        "\n",
        "  \n",
        "  "
      ],
      "metadata": {
        "colab": {
          "base_uri": "https://localhost:8080/"
        },
        "id": "Dklemppg_DKu",
        "outputId": "c1c3d0d7-7c7a-4fa4-9d7a-cc6dd717e3bc"
      },
      "execution_count": 28,
      "outputs": [
        {
          "output_type": "stream",
          "name": "stdout",
          "text": [
            "Enter the String:The quick Brow Fox\n",
            "The  number of lowercase Letters in the String: 12\n",
            "The number of uppercase Letters in the String: 3\n"
          ]
        }
      ]
    }
  ]
}